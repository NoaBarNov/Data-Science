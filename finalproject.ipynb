{
 "cells": [
  {
   "cell_type": "markdown",
   "metadata": {},
   "source": [
    "# Identify:\n",
    "\n",
    "Please fill-in your ID in the following cell, **only id numbers, no names!**\n"
   ]
  },
  {
   "cell_type": "markdown",
   "metadata": {
    "tags": []
   },
   "source": [
    "# EDA Project - Laptop sales\n",
    "\n",
    "<div>\n",
    "<img src=\"images/dataset-cover.png\" width=\"400\"/>\n",
    "</div>\n",
    "\n",
    "\n",
    "1. [Wrangling data](#section1)\n",
    "\n",
    "   1.1 [Fix columns](#section1.1)   \n",
    "   1.2 [Missing values](#section1.2)  \n",
    "   1.3 [Outliers](#section1.3)    \n",
    "   1.4 [Transformations](section1.4)\n",
    "  \n",
    "2. [Understand the data](#section2)\n",
    "3. [Correlations](#section3)\n",
    "4. [Categorical data](#section4)"
   ]
  },
  {
   "cell_type": "code",
   "execution_count": 1,
   "metadata": {},
   "outputs": [],
   "source": [
    "import numpy as np\n",
    "import pandas as pd\n",
    "import seaborn as sns\n",
    "from matplotlib import pyplot as plt"
   ]
  },
  {
   "cell_type": "markdown",
   "metadata": {},
   "source": [
    "We'll work with a marketing of Laptops dataset, taken from [Flipkaet](flipkart.com)\n",
    "\n",
    "Based on the example [here](https://www.kaggle.com/jennifercrockett/marketing-analytics-eda-task-final)"
   ]
  },
  {
   "cell_type": "code",
   "execution_count": 2,
   "metadata": {},
   "outputs": [],
   "source": [
    "id1 = \"316087337\"\n",
    "id2 = \"209056225\"\n",
    "id3 = \"208685842\"\n",
    "id4 = \"208006965\""
   ]
  },
  {
   "cell_type": "code",
   "execution_count": 3,
   "metadata": {},
   "outputs": [],
   "source": [
    "url = 'https://raw.githubusercontent.com/NoaBarNov/Data-Science/main/Cleaned_Laptop_data.csv'\n",
    "data_comp = pd.read_csv(url)"
   ]
  },
  {
   "cell_type": "code",
   "execution_count": 4,
   "metadata": {},
   "outputs": [],
   "source": [
    "data = data_comp.copy()"
   ]
  },
  {
   "cell_type": "code",
   "execution_count": 5,
   "metadata": {},
   "outputs": [
    {
     "data": {
      "text/plain": [
       "(896, 23)"
      ]
     },
     "execution_count": 5,
     "metadata": {},
     "output_type": "execute_result"
    }
   ],
   "source": [
    "data.shape"
   ]
  },
  {
   "cell_type": "code",
   "execution_count": 6,
   "metadata": {},
   "outputs": [
    {
     "data": {
      "text/html": [
       "<div>\n",
       "<style scoped>\n",
       "    .dataframe tbody tr th:only-of-type {\n",
       "        vertical-align: middle;\n",
       "    }\n",
       "\n",
       "    .dataframe tbody tr th {\n",
       "        vertical-align: top;\n",
       "    }\n",
       "\n",
       "    .dataframe thead th {\n",
       "        text-align: right;\n",
       "    }\n",
       "</style>\n",
       "<table border=\"1\" class=\"dataframe\">\n",
       "  <thead>\n",
       "    <tr style=\"text-align: right;\">\n",
       "      <th></th>\n",
       "      <th>brand</th>\n",
       "      <th>model</th>\n",
       "      <th>processor_brand</th>\n",
       "      <th>processor_name</th>\n",
       "      <th>processor_gnrtn</th>\n",
       "      <th>ram_gb</th>\n",
       "      <th>ram_type</th>\n",
       "      <th>ssd</th>\n",
       "      <th>hdd</th>\n",
       "      <th>os</th>\n",
       "      <th>...</th>\n",
       "      <th>display_size</th>\n",
       "      <th>warranty</th>\n",
       "      <th>Touchscreen</th>\n",
       "      <th>msoffice</th>\n",
       "      <th>latest_price</th>\n",
       "      <th>old_price</th>\n",
       "      <th>discount</th>\n",
       "      <th>star_rating</th>\n",
       "      <th>ratings</th>\n",
       "      <th>reviews</th>\n",
       "    </tr>\n",
       "  </thead>\n",
       "  <tbody>\n",
       "    <tr>\n",
       "      <th>0</th>\n",
       "      <td>ASUS</td>\n",
       "      <td>Celeron</td>\n",
       "      <td>Intel</td>\n",
       "      <td>Celeron Dual</td>\n",
       "      <td>Missing</td>\n",
       "      <td>4</td>\n",
       "      <td>DDR4</td>\n",
       "      <td>0</td>\n",
       "      <td>1024</td>\n",
       "      <td>Windows</td>\n",
       "      <td>...</td>\n",
       "      <td>15.6</td>\n",
       "      <td>1</td>\n",
       "      <td>No</td>\n",
       "      <td>No</td>\n",
       "      <td>23990</td>\n",
       "      <td>26990</td>\n",
       "      <td>11</td>\n",
       "      <td>3.8</td>\n",
       "      <td>15279</td>\n",
       "      <td>1947</td>\n",
       "    </tr>\n",
       "    <tr>\n",
       "      <th>1</th>\n",
       "      <td>ASUS</td>\n",
       "      <td>VivoBook</td>\n",
       "      <td>Intel</td>\n",
       "      <td>Core i3</td>\n",
       "      <td>10th</td>\n",
       "      <td>8</td>\n",
       "      <td>DDR4</td>\n",
       "      <td>512</td>\n",
       "      <td>0</td>\n",
       "      <td>Windows</td>\n",
       "      <td>...</td>\n",
       "      <td>15.6</td>\n",
       "      <td>1</td>\n",
       "      <td>No</td>\n",
       "      <td>No</td>\n",
       "      <td>37990</td>\n",
       "      <td>50990</td>\n",
       "      <td>25</td>\n",
       "      <td>4.3</td>\n",
       "      <td>990</td>\n",
       "      <td>108</td>\n",
       "    </tr>\n",
       "    <tr>\n",
       "      <th>2</th>\n",
       "      <td>ASUS</td>\n",
       "      <td>Vivobook</td>\n",
       "      <td>Intel</td>\n",
       "      <td>Core i3</td>\n",
       "      <td>10th</td>\n",
       "      <td>8</td>\n",
       "      <td>DDR4</td>\n",
       "      <td>0</td>\n",
       "      <td>1024</td>\n",
       "      <td>Windows</td>\n",
       "      <td>...</td>\n",
       "      <td>14.1</td>\n",
       "      <td>1</td>\n",
       "      <td>No</td>\n",
       "      <td>No</td>\n",
       "      <td>32890</td>\n",
       "      <td>46990</td>\n",
       "      <td>30</td>\n",
       "      <td>3.9</td>\n",
       "      <td>28</td>\n",
       "      <td>4</td>\n",
       "    </tr>\n",
       "    <tr>\n",
       "      <th>3</th>\n",
       "      <td>HP</td>\n",
       "      <td>Core</td>\n",
       "      <td>Intel</td>\n",
       "      <td>Core i3</td>\n",
       "      <td>11th</td>\n",
       "      <td>8</td>\n",
       "      <td>DDR4</td>\n",
       "      <td>512</td>\n",
       "      <td>0</td>\n",
       "      <td>Windows</td>\n",
       "      <td>...</td>\n",
       "      <td>15.6</td>\n",
       "      <td>1</td>\n",
       "      <td>No</td>\n",
       "      <td>Yes</td>\n",
       "      <td>42990</td>\n",
       "      <td>57330</td>\n",
       "      <td>25</td>\n",
       "      <td>4.4</td>\n",
       "      <td>158</td>\n",
       "      <td>18</td>\n",
       "    </tr>\n",
       "    <tr>\n",
       "      <th>4</th>\n",
       "      <td>HP</td>\n",
       "      <td>Core</td>\n",
       "      <td>Intel</td>\n",
       "      <td>Core i5</td>\n",
       "      <td>11th</td>\n",
       "      <td>8</td>\n",
       "      <td>DDR4</td>\n",
       "      <td>512</td>\n",
       "      <td>0</td>\n",
       "      <td>Windows</td>\n",
       "      <td>...</td>\n",
       "      <td>15.6</td>\n",
       "      <td>0</td>\n",
       "      <td>No</td>\n",
       "      <td>No</td>\n",
       "      <td>54990</td>\n",
       "      <td>70171</td>\n",
       "      <td>21</td>\n",
       "      <td>4.2</td>\n",
       "      <td>116</td>\n",
       "      <td>15</td>\n",
       "    </tr>\n",
       "  </tbody>\n",
       "</table>\n",
       "<p>5 rows × 23 columns</p>\n",
       "</div>"
      ],
      "text/plain": [
       "  brand     model processor_brand processor_name processor_gnrtn ram_gb  \\\n",
       "0  ASUS   Celeron           Intel   Celeron Dual         Missing      4   \n",
       "1  ASUS  VivoBook           Intel        Core i3            10th      8   \n",
       "2  ASUS  Vivobook           Intel        Core i3            10th      8   \n",
       "3    HP      Core           Intel        Core i3            11th      8   \n",
       "4    HP      Core           Intel        Core i5            11th      8   \n",
       "\n",
       "  ram_type  ssd   hdd       os  ...  display_size  warranty Touchscreen  \\\n",
       "0     DDR4    0  1024  Windows  ...          15.6         1          No   \n",
       "1     DDR4  512     0  Windows  ...          15.6         1          No   \n",
       "2     DDR4    0  1024  Windows  ...          14.1         1          No   \n",
       "3     DDR4  512     0  Windows  ...          15.6         1          No   \n",
       "4     DDR4  512     0  Windows  ...          15.6         0          No   \n",
       "\n",
       "  msoffice  latest_price old_price discount  star_rating  ratings  reviews  \n",
       "0       No         23990     26990       11          3.8    15279     1947  \n",
       "1       No         37990     50990       25          4.3      990      108  \n",
       "2       No         32890     46990       30          3.9       28        4  \n",
       "3      Yes         42990     57330       25          4.4      158       18  \n",
       "4       No         54990     70171       21          4.2      116       15  \n",
       "\n",
       "[5 rows x 23 columns]"
      ]
     },
     "execution_count": 6,
     "metadata": {},
     "output_type": "execute_result"
    }
   ],
   "source": [
    "data.head()"
   ]
  },
  {
   "cell_type": "markdown",
   "metadata": {},
   "source": [
    "# Wrangling data"
   ]
  },
  {
   "cell_type": "markdown",
   "metadata": {},
   "source": [
    "#### 1.1 Fix columns"
   ]
  },
  {
   "cell_type": "code",
   "execution_count": 7,
   "metadata": {},
   "outputs": [
    {
     "data": {
      "text/plain": [
       "brand               object\n",
       "model               object\n",
       "processor_brand     object\n",
       "processor_name      object\n",
       "processor_gnrtn     object\n",
       "ram_gb              object\n",
       "ram_type            object\n",
       "ssd                  int64\n",
       "hdd                  int64\n",
       "os                  object\n",
       "os_bit               int64\n",
       "graphic_card_gb      int64\n",
       "weight              object\n",
       "display_size        object\n",
       "warranty             int64\n",
       "Touchscreen         object\n",
       "msoffice            object\n",
       "latest_price         int64\n",
       "old_price            int64\n",
       "discount             int64\n",
       "star_rating        float64\n",
       "ratings              int64\n",
       "reviews              int64\n",
       "dtype: object"
      ]
     },
     "execution_count": 7,
     "metadata": {},
     "output_type": "execute_result"
    }
   ],
   "source": [
    "data.dtypes"
   ]
  },
  {
   "cell_type": "markdown",
   "metadata": {},
   "source": [
    "#### 1.2 Missing values"
   ]
  },
  {
   "cell_type": "code",
   "execution_count": 8,
   "metadata": {},
   "outputs": [
    {
     "data": {
      "text/plain": [
       "ram_gb             25\n",
       "ram_type           25\n",
       "processor_name      1\n",
       "brand               0\n",
       "display_size        0\n",
       "ratings             0\n",
       "star_rating         0\n",
       "discount            0\n",
       "old_price           0\n",
       "latest_price        0\n",
       "msoffice            0\n",
       "Touchscreen         0\n",
       "warranty            0\n",
       "graphic_card_gb     0\n",
       "weight              0\n",
       "model               0\n",
       "os_bit              0\n",
       "os                  0\n",
       "hdd                 0\n",
       "ssd                 0\n",
       "processor_gnrtn     0\n",
       "processor_brand     0\n",
       "reviews             0\n",
       "dtype: int64"
      ]
     },
     "execution_count": 8,
     "metadata": {},
     "output_type": "execute_result"
    }
   ],
   "source": [
    "data.isnull().sum().sort_values(ascending=False)"
   ]
  },
  {
   "cell_type": "markdown",
   "metadata": {},
   "source": [
    "Replacing missing to NaN's for conveniency"
   ]
  },
  {
   "cell_type": "code",
   "execution_count": 9,
   "metadata": {},
   "outputs": [],
   "source": [
    "data = data.replace('Missing' , np.nan)"
   ]
  },
  {
   "cell_type": "code",
   "execution_count": 10,
   "metadata": {},
   "outputs": [
    {
     "data": {
      "text/plain": [
       "processor_gnrtn    314\n",
       "os                  72\n",
       "ram_gb              25\n",
       "ram_type            25\n",
       "processor_name       1\n",
       "brand                0\n",
       "warranty             0\n",
       "ratings              0\n",
       "star_rating          0\n",
       "discount             0\n",
       "old_price            0\n",
       "latest_price         0\n",
       "msoffice             0\n",
       "Touchscreen          0\n",
       "graphic_card_gb      0\n",
       "display_size         0\n",
       "weight               0\n",
       "model                0\n",
       "os_bit               0\n",
       "hdd                  0\n",
       "ssd                  0\n",
       "processor_brand      0\n",
       "reviews              0\n",
       "dtype: int64"
      ]
     },
     "execution_count": 10,
     "metadata": {},
     "output_type": "execute_result"
    }
   ],
   "source": [
    "data.isnull().sum().sort_values(ascending=False)"
   ]
  },
  {
   "cell_type": "markdown",
   "metadata": {},
   "source": [
    "לבדוק ש25 בשתי ההעמודות הם לא אותן השורות"
   ]
  },
  {
   "cell_type": "code",
   "execution_count": 11,
   "metadata": {},
   "outputs": [
    {
     "data": {
      "text/html": [
       "<div>\n",
       "<style scoped>\n",
       "    .dataframe tbody tr th:only-of-type {\n",
       "        vertical-align: middle;\n",
       "    }\n",
       "\n",
       "    .dataframe tbody tr th {\n",
       "        vertical-align: top;\n",
       "    }\n",
       "\n",
       "    .dataframe thead th {\n",
       "        text-align: right;\n",
       "    }\n",
       "</style>\n",
       "<table border=\"1\" class=\"dataframe\">\n",
       "  <thead>\n",
       "    <tr style=\"text-align: right;\">\n",
       "      <th></th>\n",
       "      <th>brand</th>\n",
       "      <th>model</th>\n",
       "      <th>processor_brand</th>\n",
       "      <th>processor_name</th>\n",
       "      <th>processor_gnrtn</th>\n",
       "      <th>ram_gb</th>\n",
       "      <th>ram_type</th>\n",
       "      <th>ssd</th>\n",
       "      <th>hdd</th>\n",
       "      <th>os</th>\n",
       "      <th>...</th>\n",
       "      <th>display_size</th>\n",
       "      <th>warranty</th>\n",
       "      <th>Touchscreen</th>\n",
       "      <th>msoffice</th>\n",
       "      <th>latest_price</th>\n",
       "      <th>old_price</th>\n",
       "      <th>discount</th>\n",
       "      <th>star_rating</th>\n",
       "      <th>ratings</th>\n",
       "      <th>reviews</th>\n",
       "    </tr>\n",
       "  </thead>\n",
       "  <tbody>\n",
       "  </tbody>\n",
       "</table>\n",
       "<p>0 rows × 23 columns</p>\n",
       "</div>"
      ],
      "text/plain": [
       "Empty DataFrame\n",
       "Columns: [brand, model, processor_brand, processor_name, processor_gnrtn, ram_gb, ram_type, ssd, hdd, os, os_bit, graphic_card_gb, weight, display_size, warranty, Touchscreen, msoffice, latest_price, old_price, discount, star_rating, ratings, reviews]\n",
       "Index: []\n",
       "\n",
       "[0 rows x 23 columns]"
      ]
     },
     "execution_count": 11,
     "metadata": {},
     "output_type": "execute_result"
    }
   ],
   "source": [
    "data[(data['ram_gb'].values == np.nan) & (data['ram_type'].values == np.nan)]"
   ]
  },
  {
   "cell_type": "markdown",
   "metadata": {},
   "source": [
    "##### Fixing processor generator column"
   ]
  },
  {
   "cell_type": "code",
   "execution_count": 12,
   "metadata": {},
   "outputs": [
    {
     "data": {
      "text/plain": [
       "<AxesSubplot:xlabel='processor_gnrtn', ylabel='Percent'>"
      ]
     },
     "execution_count": 12,
     "metadata": {},
     "output_type": "execute_result"
    },
    {
     "data": {
      "image/png": "[encoded data removed]",
      "text/plain": [
       "<Figure size 432x288 with 1 Axes>"
      ]
     },
     "metadata": {
      "needs_background": "light"
     },
     "output_type": "display_data"
    }
   ],
   "source": [
    "sns.histplot(data = data, x= 'processor_gnrtn', stat = 'percent')"
   ]
  },
  {
   "cell_type": "markdown",
   "metadata": {},
   "source": [
    "להחליט אם לרשום פה משהו לגבי הכנסת ערכים חסרים, אולי להגיד שאין פה חוקיות כי שליש מהערכים חסרים"
   ]
  },
  {
   "cell_type": "markdown",
   "metadata": {},
   "source": [
    "<div>\n",
    "<img src=\"images/red.png\" width=\"100\"/>\n",
    "</div>"
   ]
  },
  {
   "cell_type": "markdown",
   "metadata": {},
   "source": [
    "##### Fixing operation system column"
   ]
  },
  {
   "cell_type": "code",
   "execution_count": 13,
   "metadata": {},
   "outputs": [
    {
     "data": {
      "text/plain": [
       "72"
      ]
     },
     "execution_count": 13,
     "metadata": {},
     "output_type": "execute_result"
    }
   ],
   "source": [
    "data['os'].isnull().sum()"
   ]
  },
  {
   "cell_type": "code",
   "execution_count": 14,
   "metadata": {},
   "outputs": [
    {
     "data": {
      "text/plain": [
       "array(['Windows', 'Mac', nan], dtype=object)"
      ]
     },
     "execution_count": 14,
     "metadata": {},
     "output_type": "execute_result"
    }
   ],
   "source": [
    "data.os.unique()"
   ]
  },
  {
   "cell_type": "code",
   "execution_count": 15,
   "metadata": {},
   "outputs": [
    {
     "data": {
      "text/plain": [
       "<AxesSubplot:xlabel='os', ylabel='Percent'>"
      ]
     },
     "execution_count": 15,
     "metadata": {},
     "output_type": "execute_result"
    },
    {
     "data": {
      "image/png": "[encoded data removed]",
      "text/plain": [
       "<Figure size 432x288 with 1 Axes>"
      ]
     },
     "metadata": {
      "needs_background": "light"
     },
     "output_type": "display_data"
    }
   ],
   "source": [
    "sns.histplot(data = data, x= 'os', stat = 'percent')\n",
    "#לכתוב למטה operation system"
   ]
  },
  {
   "cell_type": "markdown",
   "metadata": {},
   "source": [
    "we can see that most of the computers contains Windows opration system so we will replace the missing values with windows values (לא ישנה את הסטטיסטיקה)"
   ]
  },
  {
   "cell_type": "code",
   "execution_count": 16,
   "metadata": {},
   "outputs": [],
   "source": [
    "data['os'] = data['os'].fillna('Windows')"
   ]
  },
  {
   "cell_type": "code",
   "execution_count": 17,
   "metadata": {},
   "outputs": [
    {
     "data": {
      "text/plain": [
       "array(['Windows', 'Mac'], dtype=object)"
      ]
     },
     "execution_count": 17,
     "metadata": {},
     "output_type": "execute_result"
    }
   ],
   "source": [
    "data.os.unique()"
   ]
  },
  {
   "cell_type": "code",
   "execution_count": 18,
   "metadata": {},
   "outputs": [
    {
     "data": {
      "text/plain": [
       "0"
      ]
     },
     "execution_count": 18,
     "metadata": {},
     "output_type": "execute_result"
    }
   ],
   "source": [
    "data['os'].isnull().sum()"
   ]
  },
  {
   "cell_type": "markdown",
   "metadata": {},
   "source": [
    "##### Fixing ram_gb column"
   ]
  },
  {
   "cell_type": "code",
   "execution_count": 19,
   "metadata": {},
   "outputs": [
    {
     "data": {
      "text/plain": [
       "25"
      ]
     },
     "execution_count": 19,
     "metadata": {},
     "output_type": "execute_result"
    }
   ],
   "source": [
    "data['ram_gb'].isnull().sum()"
   ]
  },
  {
   "cell_type": "code",
   "execution_count": 20,
   "metadata": {},
   "outputs": [
    {
     "data": {
      "image/png": "[encoded data removed]",
      "text/plain": [
       "<Figure size 432x288 with 1 Axes>"
      ]
     },
     "metadata": {
      "needs_background": "light"
     },
     "output_type": "display_data"
    }
   ],
   "source": [
    "sns.histplot(data = data, x= 'ram_gb', stat = 'percent')\n",
    "plt.xticks(rotation = 70)\n",
    "plt.show()"
   ]
  },
  {
   "cell_type": "markdown",
   "metadata": {},
   "source": [
    "only 0.02% of the data is NaN so we will convert the missing data to the most common gb - 8"
   ]
  },
  {
   "cell_type": "code",
   "execution_count": 21,
   "metadata": {},
   "outputs": [],
   "source": [
    "data['ram_gb'] = data['ram_gb'].fillna('8')"
   ]
  },
  {
   "cell_type": "code",
   "execution_count": 22,
   "metadata": {},
   "outputs": [
    {
     "data": {
      "text/plain": [
       "array(['4', '8', '16', '5', '32', '15.6', 'Dual', 'NVIDIA', 'Acer',\n",
       "       'Pre-installed', 'Full', 'Intel', 'Access'], dtype=object)"
      ]
     },
     "execution_count": 22,
     "metadata": {},
     "output_type": "execute_result"
    }
   ],
   "source": [
    "data['ram_gb'].unique()"
   ]
  },
  {
   "cell_type": "code",
   "execution_count": 23,
   "metadata": {},
   "outputs": [
    {
     "data": {
      "image/png": "[encoded data removed]",
      "text/plain": [
       "<Figure size 432x288 with 1 Axes>"
      ]
     },
     "metadata": {
      "needs_background": "light"
     },
     "output_type": "display_data"
    }
   ],
   "source": [
    "sns.histplot(data = data, x= 'ram_gb', stat = 'percent')\n",
    "plt.xticks(rotation = 70)\n",
    "plt.show()"
   ]
  },
  {
   "cell_type": "markdown",
   "metadata": {},
   "source": [
    "##### Fixing ram_type column"
   ]
  },
  {
   "cell_type": "code",
   "execution_count": 24,
   "metadata": {},
   "outputs": [
    {
     "data": {
      "text/plain": [
       "25"
      ]
     },
     "execution_count": 24,
     "metadata": {},
     "output_type": "execute_result"
    }
   ],
   "source": [
    "data['ram_type'].isnull().sum()"
   ]
  },
  {
   "cell_type": "code",
   "execution_count": 25,
   "metadata": {},
   "outputs": [
    {
     "data": {
      "image/png": "[encoded data removed]",
      "text/plain": [
       "<Figure size 432x288 with 1 Axes>"
      ]
     },
     "metadata": {
      "needs_background": "light"
     },
     "output_type": "display_data"
    }
   ],
   "source": [
    "sns.histplot(data = data, x= 'ram_type', stat = 'percent')\n",
    "plt.xticks(rotation = 70)\n",
    "plt.show()"
   ]
  },
  {
   "cell_type": "markdown",
   "metadata": {},
   "source": [
    "only 0.02% of the data is NaN so we will convert the missing data to the most common DDR4"
   ]
  },
  {
   "cell_type": "code",
   "execution_count": 26,
   "metadata": {},
   "outputs": [],
   "source": [
    "data['ram_type'] = data['ram_type'].fillna('DDR4')"
   ]
  },
  {
   "cell_type": "code",
   "execution_count": 27,
   "metadata": {},
   "outputs": [
    {
     "data": {
      "text/plain": [
       "0"
      ]
     },
     "execution_count": 27,
     "metadata": {},
     "output_type": "execute_result"
    }
   ],
   "source": [
    "data['ram_type'].isnull().sum()"
   ]
  },
  {
   "cell_type": "markdown",
   "metadata": {},
   "source": [
    "##### Fixing processor_name column"
   ]
  },
  {
   "cell_type": "code",
   "execution_count": 28,
   "metadata": {},
   "outputs": [
    {
     "data": {
      "text/plain": [
       "1"
      ]
     },
     "execution_count": 28,
     "metadata": {},
     "output_type": "execute_result"
    }
   ],
   "source": [
    "data['processor_name'].isnull().sum()"
   ]
  },
  {
   "cell_type": "code",
   "execution_count": 29,
   "metadata": {},
   "outputs": [
    {
     "data": {
      "image/png": "[encoded data removed]",
      "text/plain": [
       "<Figure size 432x288 with 1 Axes>"
      ]
     },
     "metadata": {
      "needs_background": "light"
     },
     "output_type": "display_data"
    }
   ],
   "source": [
    "sns.histplot(data = data, x= 'processor_name', stat = 'percent')\n",
    "plt.xticks(rotation = 90)\n",
    "plt.show()"
   ]
  },
  {
   "cell_type": "markdown",
   "metadata": {},
   "source": [
    "we dicided to drop it out because we cant להסיק where it might belong"
   ]
  },
  {
   "cell_type": "code",
   "execution_count": 30,
   "metadata": {},
   "outputs": [],
   "source": [
    "data = data.dropna(subset = ['processor_name'])"
   ]
  },
  {
   "cell_type": "code",
   "execution_count": 31,
   "metadata": {},
   "outputs": [
    {
     "data": {
      "text/plain": [
       "0"
      ]
     },
     "execution_count": 31,
     "metadata": {},
     "output_type": "execute_result"
    }
   ],
   "source": [
    "data['processor_name'].isnull().sum()"
   ]
  },
  {
   "cell_type": "markdown",
   "metadata": {},
   "source": [
    "#### 1.3 Noisy data - outliers"
   ]
  },
  {
   "cell_type": "markdown",
   "metadata": {},
   "source": [
    "We choose only the numeric data because we want to see it in boxplot"
   ]
  },
  {
   "cell_type": "markdown",
   "metadata": {},
   "source": [
    "Select only numeric columns:"
   ]
  },
  {
   "cell_type": "code",
   "execution_count": 32,
   "metadata": {},
   "outputs": [
    {
     "data": {
      "text/plain": [
       "brand               object\n",
       "model               object\n",
       "processor_brand     object\n",
       "processor_name      object\n",
       "processor_gnrtn     object\n",
       "ram_gb              object\n",
       "ram_type            object\n",
       "ssd                  int64\n",
       "hdd                  int64\n",
       "os                  object\n",
       "os_bit               int64\n",
       "graphic_card_gb      int64\n",
       "weight              object\n",
       "display_size        object\n",
       "warranty             int64\n",
       "Touchscreen         object\n",
       "msoffice            object\n",
       "latest_price         int64\n",
       "old_price            int64\n",
       "discount             int64\n",
       "star_rating        float64\n",
       "ratings              int64\n",
       "reviews              int64\n",
       "dtype: object"
      ]
     },
     "execution_count": 32,
     "metadata": {},
     "output_type": "execute_result"
    }
   ],
   "source": [
    "data.dtypes"
   ]
  },
  {
   "cell_type": "code",
   "execution_count": 33,
   "metadata": {},
   "outputs": [],
   "source": [
    "#features = ['ram_gb','Year_Birth', 'Income', 'Kidhome', 'Teenhome','Recency', 'MntWines', 'MntFruits', 'MntMeatProducts', 'MntFishProducts', 'MntSweetProducts', 'MntGoldProds', 'NumDealsPurchases', 'NumWebPurchases', 'NumCatalogPurchases','NumStorePurchases', 'NumWebVisitsMonth' ]"
   ]
  },
  {
   "cell_type": "markdown",
   "metadata": {},
   "source": [
    "#### 1.4 Transformations"
   ]
  },
  {
   "cell_type": "code",
   "execution_count": null,
   "metadata": {},
   "outputs": [],
   "source": []
  },
  {
   "cell_type": "markdown",
   "metadata": {},
   "source": [
    "#### 2 Understanding the data"
   ]
  },
  {
   "cell_type": "markdown",
   "metadata": {},
   "source": [
    "ram_gb column"
   ]
  },
  {
   "cell_type": "code",
   "execution_count": 34,
   "metadata": {},
   "outputs": [
    {
     "data": {
      "image/png": "[encoded data removed]",
      "text/plain": [
       "<Figure size 432x288 with 1 Axes>"
      ]
     },
     "metadata": {
      "needs_background": "light"
     },
     "output_type": "display_data"
    }
   ],
   "source": [
    "sns.histplot(data = data, x= 'ram_gb', stat = 'percent')\n",
    "plt.xticks(rotation = 70)\n",
    "plt.show()"
   ]
  },
  {
   "cell_type": "markdown",
   "metadata": {},
   "source": [
    "we can see that there are some wrong data that got in the column so we will drop out the wrong rows\n",
    "15.6 is screen size\n",
    "also, Dual, NVIDIA, Acer, intel is companies\n",
    "\n",
    "we will find the rows that we aren't sure about them\n",
    "5, Pre-installed, Full, Access"
   ]
  },
  {
   "cell_type": "code",
   "execution_count": 35,
   "metadata": {},
   "outputs": [
    {
     "data": {
      "text/html": [
       "<div>\n",
       "<style scoped>\n",
       "    .dataframe tbody tr th:only-of-type {\n",
       "        vertical-align: middle;\n",
       "    }\n",
       "\n",
       "    .dataframe tbody tr th {\n",
       "        vertical-align: top;\n",
       "    }\n",
       "\n",
       "    .dataframe thead th {\n",
       "        text-align: right;\n",
       "    }\n",
       "</style>\n",
       "<table border=\"1\" class=\"dataframe\">\n",
       "  <thead>\n",
       "    <tr style=\"text-align: right;\">\n",
       "      <th></th>\n",
       "      <th>brand</th>\n",
       "      <th>model</th>\n",
       "      <th>processor_brand</th>\n",
       "      <th>processor_name</th>\n",
       "      <th>processor_gnrtn</th>\n",
       "      <th>ram_gb</th>\n",
       "      <th>ram_type</th>\n",
       "      <th>ssd</th>\n",
       "      <th>hdd</th>\n",
       "      <th>os</th>\n",
       "      <th>...</th>\n",
       "      <th>display_size</th>\n",
       "      <th>warranty</th>\n",
       "      <th>Touchscreen</th>\n",
       "      <th>msoffice</th>\n",
       "      <th>latest_price</th>\n",
       "      <th>old_price</th>\n",
       "      <th>discount</th>\n",
       "      <th>star_rating</th>\n",
       "      <th>ratings</th>\n",
       "      <th>reviews</th>\n",
       "    </tr>\n",
       "  </thead>\n",
       "  <tbody>\n",
       "    <tr>\n",
       "      <th>21</th>\n",
       "      <td>acer</td>\n",
       "      <td>Aspire</td>\n",
       "      <td>Intel</td>\n",
       "      <td>i5</td>\n",
       "      <td>NaN</td>\n",
       "      <td>5</td>\n",
       "      <td>DDR5</td>\n",
       "      <td>0</td>\n",
       "      <td>0</td>\n",
       "      <td>Windows</td>\n",
       "      <td>...</td>\n",
       "      <td>0</td>\n",
       "      <td>0</td>\n",
       "      <td>No</td>\n",
       "      <td>No</td>\n",
       "      <td>50990</td>\n",
       "      <td>89999</td>\n",
       "      <td>43</td>\n",
       "      <td>4.4</td>\n",
       "      <td>10966</td>\n",
       "      <td>1185</td>\n",
       "    </tr>\n",
       "    <tr>\n",
       "      <th>710</th>\n",
       "      <td>MSI</td>\n",
       "      <td>GS</td>\n",
       "      <td>512</td>\n",
       "      <td>GB SSD</td>\n",
       "      <td>NaN</td>\n",
       "      <td>Pre-installed</td>\n",
       "      <td>Windows</td>\n",
       "      <td>0</td>\n",
       "      <td>0</td>\n",
       "      <td>Windows</td>\n",
       "      <td>...</td>\n",
       "      <td>8th</td>\n",
       "      <td>0</td>\n",
       "      <td>No</td>\n",
       "      <td>No</td>\n",
       "      <td>149990</td>\n",
       "      <td>169990</td>\n",
       "      <td>11</td>\n",
       "      <td>4.1</td>\n",
       "      <td>10</td>\n",
       "      <td>3</td>\n",
       "    </tr>\n",
       "    <tr>\n",
       "      <th>769</th>\n",
       "      <td>Lenovo</td>\n",
       "      <td>Legion</td>\n",
       "      <td>Pre-installed</td>\n",
       "      <td>Genuine Windows</td>\n",
       "      <td>NaN</td>\n",
       "      <td>Full</td>\n",
       "      <td>LED</td>\n",
       "      <td>0</td>\n",
       "      <td>0</td>\n",
       "      <td>Windows</td>\n",
       "      <td>...</td>\n",
       "      <td>0</td>\n",
       "      <td>0</td>\n",
       "      <td>No</td>\n",
       "      <td>No</td>\n",
       "      <td>77890</td>\n",
       "      <td>110890</td>\n",
       "      <td>29</td>\n",
       "      <td>4.4</td>\n",
       "      <td>208</td>\n",
       "      <td>57</td>\n",
       "    </tr>\n",
       "    <tr>\n",
       "      <th>846</th>\n",
       "      <td>HP</td>\n",
       "      <td>Chromebook</td>\n",
       "      <td>64</td>\n",
       "      <td>GB eMMC</td>\n",
       "      <td>NaN</td>\n",
       "      <td>Access</td>\n",
       "      <td>Apps</td>\n",
       "      <td>0</td>\n",
       "      <td>0</td>\n",
       "      <td>Windows</td>\n",
       "      <td>...</td>\n",
       "      <td>0</td>\n",
       "      <td>0</td>\n",
       "      <td>No</td>\n",
       "      <td>No</td>\n",
       "      <td>61745</td>\n",
       "      <td>0</td>\n",
       "      <td>0</td>\n",
       "      <td>4.6</td>\n",
       "      <td>23</td>\n",
       "      <td>4</td>\n",
       "    </tr>\n",
       "  </tbody>\n",
       "</table>\n",
       "<p>4 rows × 23 columns</p>\n",
       "</div>"
      ],
      "text/plain": [
       "      brand       model processor_brand   processor_name processor_gnrtn  \\\n",
       "21     acer      Aspire           Intel               i5             NaN   \n",
       "710     MSI          GS             512           GB SSD             NaN   \n",
       "769  Lenovo      Legion   Pre-installed  Genuine Windows             NaN   \n",
       "846      HP  Chromebook              64          GB eMMC             NaN   \n",
       "\n",
       "            ram_gb ram_type  ssd  hdd       os  ...  display_size  warranty  \\\n",
       "21               5     DDR5    0    0  Windows  ...             0         0   \n",
       "710  Pre-installed  Windows    0    0  Windows  ...           8th         0   \n",
       "769           Full      LED    0    0  Windows  ...             0         0   \n",
       "846         Access     Apps    0    0  Windows  ...             0         0   \n",
       "\n",
       "    Touchscreen msoffice  latest_price old_price discount  star_rating  \\\n",
       "21           No       No         50990     89999       43          4.4   \n",
       "710          No       No        149990    169990       11          4.1   \n",
       "769          No       No         77890    110890       29          4.4   \n",
       "846          No       No         61745         0        0          4.6   \n",
       "\n",
       "     ratings  reviews  \n",
       "21     10966     1185  \n",
       "710       10        3  \n",
       "769      208       57  \n",
       "846       23        4  \n",
       "\n",
       "[4 rows x 23 columns]"
      ]
     },
     "execution_count": 35,
     "metadata": {},
     "output_type": "execute_result"
    }
   ],
   "source": [
    "data[(data['ram_gb'].values == 'Pre-installed') | (data['ram_gb'].values == 'Full') | (data['ram_gb'].values == 'Access') | (data['ram_gb'].values == '5')]"
   ]
  },
  {
   "cell_type": "markdown",
   "metadata": {},
   "source": [
    "we will drop the folowing rows because we can see false information also in cloumn processor_brand.\n",
    "בשורות שיש להם ערכים מספריים בעמודה של המותג. "
   ]
  },
  {
   "cell_type": "code",
   "execution_count": 36,
   "metadata": {},
   "outputs": [],
   "source": [
    "dorp_preinstalled_index = data.loc[data.ram_gb == 'Pre-installed'].index\n",
    "dorp_access_index = data.loc[data.ram_gb == 'Access'].index\n",
    "dorp_156_index = data.loc[data.ram_gb == '15.6'].index\n",
    "dorp_5_index = data.loc[data.ram_gb == '5'].index\n",
    "dorp_dual_index = data.loc[data.ram_gb == 'Dual'].index\n",
    "dorp_nvidia_index = data.loc[data.ram_gb == 'NVIDIA'].index\n",
    "dorp_acer_index = data.loc[data.ram_gb == 'Acer'].index\n",
    "dorp_intel_index = data.loc[data.ram_gb == 'Intel'].index\n",
    "data.drop(dorp_preinstalled_index,inplace = True)\n",
    "data.drop(dorp_access_index,inplace = True)\n",
    "data.drop(dorp_156_index,inplace = True)\n",
    "data.drop(dorp_dual_index,inplace = True)\n",
    "data.drop(dorp_nvidia_index,inplace = True)\n",
    "data.drop(dorp_acer_index,inplace = True)\n",
    "data.drop(dorp_intel_index,inplace = True)\n",
    "data.drop(dorp_5_index,inplace = True)"
   ]
  },
  {
   "cell_type": "code",
   "execution_count": 37,
   "metadata": {},
   "outputs": [
    {
     "data": {
      "text/plain": [
       "(881, 23)"
      ]
     },
     "execution_count": 37,
     "metadata": {},
     "output_type": "execute_result"
    }
   ],
   "source": [
    "data.shape"
   ]
  },
  {
   "cell_type": "code",
   "execution_count": 43,
   "metadata": {},
   "outputs": [
    {
     "data": {
      "text/plain": [
       "<AxesSubplot:xlabel='ram_gb', ylabel='Percent'>"
      ]
     },
     "execution_count": 43,
     "metadata": {},
     "output_type": "execute_result"
    },
    {
     "data": {
      "image/png": "[encoded data removed]",
      "text/plain": [
       "<Figure size 432x288 with 1 Axes>"
      ]
     },
     "metadata": {
      "needs_background": "light"
     },
     "output_type": "display_data"
    }
   ],
   "source": [
    "sns.histplot(data = data, x= 'ram_gb', stat = 'percent')"
   ]
  },
  {
   "cell_type": "markdown",
   "metadata": {
    "tags": []
   },
   "source": [
    "we will convert the column 'ram gb' to numeric data, the calue that interupsמפריע is 'full', we searched on the interent and we realize that the maximum size of gb laptop is 32 gb ram\n",
    "\n",
    "<div>\n",
    "<img src=\"images/size32gb.png\" width=\"400\"/>\n",
    "</div>\n",
    "\n",
    "\n",
    "Based on the the website [here](https://laptoping.com/laptop-pc-ram-size-and-performance-explained.html)"
   ]
  },
  {
   "cell_type": "code",
   "execution_count": 39,
   "metadata": {},
   "outputs": [],
   "source": [
    "data['ram_gb'] = data['ram_gb'].replace({'Full':'32'})"
   ]
  },
  {
   "cell_type": "code",
   "execution_count": 42,
   "metadata": {},
   "outputs": [
    {
     "data": {
      "text/plain": [
       "<AxesSubplot:xlabel='ram_gb', ylabel='Percent'>"
      ]
     },
     "execution_count": 42,
     "metadata": {},
     "output_type": "execute_result"
    },
    {
     "data": {
      "image/png": "[encoded data removed]",
      "text/plain": [
       "<Figure size 432x288 with 1 Axes>"
      ]
     },
     "metadata": {
      "needs_background": "light"
     },
     "output_type": "display_data"
    }
   ],
   "source": [
    "sns.histplot(data = data, x= 'ram_gb', stat = 'percent')"
   ]
  },
  {
   "cell_type": "markdown",
   "metadata": {
    "tags": []
   },
   "source": [
    "עדן - מסדר את הדאטה לדאטה נומרי לפי הרשימה ששיר הכינה לקראת עבודה של הnoisy data \n",
    "\n",
    "https://www.flipkart.com/automotive-accessories/vehicle-stereo-and-music-system/car-video-monitors/itw~brand/pr?sid=1mt%2Ceoe%2Coa4 \n",
    "- להוריד ערכים מהעמודה של display size \n",
    "זו ההוכחה לכך שitw\n",
    "זה מסך לרכב והוא לא רלוונטי לדאטה\n"
   ]
  },
  {
   "cell_type": "code",
   "execution_count": null,
   "metadata": {},
   "outputs": [],
   "source": []
  }
 ],
 "metadata": {
  "kernelspec": {
   "display_name": "Python 3 (ipykernel)",
   "language": "python",
   "name": "python3"
  },
  "language_info": {
   "codemirror_mode": {
    "name": "ipython",
    "version": 3
   },
   "file_extension": ".py",
   "mimetype": "text/x-python",
   "name": "python",
   "nbconvert_exporter": "python",
   "pygments_lexer": "ipython3",
   "version": "3.10.2"
  }
 },
 "nbformat": 4,
 "nbformat_minor": 4
}
